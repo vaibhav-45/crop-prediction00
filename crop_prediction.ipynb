{
 "cells": [
  {
   "cell_type": "code",
   "execution_count": 2,
   "id": "f4443bfe",
   "metadata": {},
   "outputs": [],
   "source": [
    "#for manipulation\n",
    "import numpy as np\n",
    "import pandas as pd"
   ]
  },
  {
   "cell_type": "code",
   "execution_count": 3,
   "id": "139f2223",
   "metadata": {},
   "outputs": [],
   "source": [
    "#for visualization\n",
    "import matplotlib.pyplot as plt\n",
    "import seaborn as sns\n"
   ]
  },
  {
   "cell_type": "code",
   "execution_count": 4,
   "id": "3481b801",
   "metadata": {},
   "outputs": [],
   "source": [
    "#for interactivity\n",
    "from ipywidgets import interact"
   ]
  },
  {
   "cell_type": "code",
   "execution_count": 5,
   "id": "d92e4851",
   "metadata": {},
   "outputs": [],
   "source": [
    "#reading dataset\n",
    "data = pd.read_csv('data.csv')"
   ]
  },
  {
   "cell_type": "code",
   "execution_count": 6,
   "id": "6394fafc",
   "metadata": {},
   "outputs": [
    {
     "name": "stdout",
     "output_type": "stream",
     "text": [
      "shape of dataset: (2200, 8)\n"
     ]
    }
   ],
   "source": [
    "#shape of data\n",
    "print(\"shape of dataset:\",data.shape)"
   ]
  },
  {
   "cell_type": "code",
   "execution_count": 7,
   "id": "01c4e3ba",
   "metadata": {},
   "outputs": [
    {
     "data": {
      "text/html": [
       "<div>\n",
       "<style scoped>\n",
       "    .dataframe tbody tr th:only-of-type {\n",
       "        vertical-align: middle;\n",
       "    }\n",
       "\n",
       "    .dataframe tbody tr th {\n",
       "        vertical-align: top;\n",
       "    }\n",
       "\n",
       "    .dataframe thead th {\n",
       "        text-align: right;\n",
       "    }\n",
       "</style>\n",
       "<table border=\"1\" class=\"dataframe\">\n",
       "  <thead>\n",
       "    <tr style=\"text-align: right;\">\n",
       "      <th></th>\n",
       "      <th>N</th>\n",
       "      <th>P</th>\n",
       "      <th>K</th>\n",
       "      <th>temperature</th>\n",
       "      <th>humidity</th>\n",
       "      <th>ph</th>\n",
       "      <th>rainfall</th>\n",
       "      <th>label</th>\n",
       "    </tr>\n",
       "  </thead>\n",
       "  <tbody>\n",
       "    <tr>\n",
       "      <th>0</th>\n",
       "      <td>90</td>\n",
       "      <td>42</td>\n",
       "      <td>43</td>\n",
       "      <td>20.879744</td>\n",
       "      <td>82.002744</td>\n",
       "      <td>6.502985</td>\n",
       "      <td>202.935536</td>\n",
       "      <td>rice</td>\n",
       "    </tr>\n",
       "    <tr>\n",
       "      <th>1</th>\n",
       "      <td>85</td>\n",
       "      <td>58</td>\n",
       "      <td>41</td>\n",
       "      <td>21.770462</td>\n",
       "      <td>80.319644</td>\n",
       "      <td>7.038096</td>\n",
       "      <td>226.655537</td>\n",
       "      <td>rice</td>\n",
       "    </tr>\n",
       "    <tr>\n",
       "      <th>2</th>\n",
       "      <td>60</td>\n",
       "      <td>55</td>\n",
       "      <td>44</td>\n",
       "      <td>23.004459</td>\n",
       "      <td>82.320763</td>\n",
       "      <td>7.840207</td>\n",
       "      <td>263.964248</td>\n",
       "      <td>rice</td>\n",
       "    </tr>\n",
       "    <tr>\n",
       "      <th>3</th>\n",
       "      <td>74</td>\n",
       "      <td>35</td>\n",
       "      <td>40</td>\n",
       "      <td>26.491096</td>\n",
       "      <td>80.158363</td>\n",
       "      <td>6.980401</td>\n",
       "      <td>242.864034</td>\n",
       "      <td>rice</td>\n",
       "    </tr>\n",
       "    <tr>\n",
       "      <th>4</th>\n",
       "      <td>78</td>\n",
       "      <td>42</td>\n",
       "      <td>42</td>\n",
       "      <td>20.130175</td>\n",
       "      <td>81.604873</td>\n",
       "      <td>7.628473</td>\n",
       "      <td>262.717340</td>\n",
       "      <td>rice</td>\n",
       "    </tr>\n",
       "  </tbody>\n",
       "</table>\n",
       "</div>"
      ],
      "text/plain": [
       "    N   P   K  temperature   humidity        ph    rainfall label\n",
       "0  90  42  43    20.879744  82.002744  6.502985  202.935536  rice\n",
       "1  85  58  41    21.770462  80.319644  7.038096  226.655537  rice\n",
       "2  60  55  44    23.004459  82.320763  7.840207  263.964248  rice\n",
       "3  74  35  40    26.491096  80.158363  6.980401  242.864034  rice\n",
       "4  78  42  42    20.130175  81.604873  7.628473  262.717340  rice"
      ]
     },
     "execution_count": 7,
     "metadata": {},
     "output_type": "execute_result"
    }
   ],
   "source": [
    "data.head()"
   ]
  },
  {
   "cell_type": "code",
   "execution_count": 8,
   "id": "608e2ba6",
   "metadata": {},
   "outputs": [
    {
     "data": {
      "text/plain": [
       "N              0\n",
       "P              0\n",
       "K              0\n",
       "temperature    0\n",
       "humidity       0\n",
       "ph             0\n",
       "rainfall       0\n",
       "label          0\n",
       "dtype: int64"
      ]
     },
     "execution_count": 8,
     "metadata": {},
     "output_type": "execute_result"
    }
   ],
   "source": [
    "data.isnull().sum()"
   ]
  },
  {
   "cell_type": "code",
   "execution_count": 9,
   "id": "2c15639e",
   "metadata": {},
   "outputs": [
    {
     "data": {
      "text/plain": [
       "rice           100\n",
       "maize          100\n",
       "jute           100\n",
       "cotton         100\n",
       "coconut        100\n",
       "papaya         100\n",
       "orange         100\n",
       "apple          100\n",
       "muskmelon      100\n",
       "watermelon     100\n",
       "grapes         100\n",
       "mango          100\n",
       "banana         100\n",
       "pomegranate    100\n",
       "lentil         100\n",
       "blackgram      100\n",
       "mungbean       100\n",
       "mothbeans      100\n",
       "pigeonpeas     100\n",
       "kidneybeans    100\n",
       "chickpea       100\n",
       "coffee         100\n",
       "Name: label, dtype: int64"
      ]
     },
     "execution_count": 9,
     "metadata": {},
     "output_type": "execute_result"
    }
   ],
   "source": [
    "data['label'].value_counts()"
   ]
  },
  {
   "cell_type": "code",
   "execution_count": 10,
   "id": "f1ec4097",
   "metadata": {},
   "outputs": [
    {
     "name": "stdout",
     "output_type": "stream",
     "text": [
      "average ratio of nitrogen in the soil : 50.551818\n",
      "average ratio of phosphorus in the soil : 53.362727\n",
      "average ratio of potassium in the soil : 48.149091\n",
      "average temperature in celsius : 25.616244\n",
      "average relative humadity in % : 71.481779\n",
      "average PH value of the soil : 6.469480\n",
      "average rainfall in mm : 103.463655\n"
     ]
    }
   ],
   "source": [
    "  print(\"average ratio of nitrogen in the soil : {0:2f}\".format(data['N'].mean()))\n",
    "  print(\"average ratio of phosphorus in the soil : {0:2f}\".format(data['P'].mean()))\n",
    "  print(\"average ratio of potassium in the soil : {0:2f}\".format(data['K'].mean()))\n",
    "  print(\"average temperature in celsius : {0:2f}\".format(data['temperature'].mean()))\n",
    "  print(\"average relative humadity in % : {0:2f}\".format(data['humidity'].mean()))\n",
    "  print(\"average PH value of the soil : {0:2f}\".format(data['ph'].mean()))\n",
    "  print(\"average rainfall in mm : {0:2f}\".format(data['rainfall'].mean()))"
   ]
  },
  {
   "cell_type": "code",
   "execution_count": 11,
   "id": "d7188a5a",
   "metadata": {},
   "outputs": [
    {
     "data": {
      "application/vnd.jupyter.widget-view+json": {
       "model_id": "016974415cd94d1abcd334b87e6ac1da",
       "version_major": 2,
       "version_minor": 0
      },
      "text/plain": [
       "interactive(children=(Dropdown(description='crops', options=('rice', 'maize', 'jute', 'cotton', 'coconut', 'pa…"
      ]
     },
     "metadata": {},
     "output_type": "display_data"
    }
   ],
   "source": [
    "# summary statistics of each crop\n",
    "\n",
    "@interact\n",
    "def summary(crops = list(data['label'].value_counts().index)):\n",
    "    x = data[data['label'] == crops]\n",
    "    print(\"------------------------------------------------------------------------\")\n",
    "    print(\"statistics of nitrogen\")\n",
    "    print(\"minimum nitrogen required :\", x['N'].min())\n",
    "    print(\"average nitrogen required :\", x['N'].mean())\n",
    "    print(\"maximun nitrogen required :\", x['N'].max())\n",
    "    print(\"-------------------------------------------------------------------------\")\n",
    "    \n",
    "    print(\"statistics of phosphorus\")\n",
    "    print(\"minimum phosphorus required :\", x['P'].min())\n",
    "    print(\"average phosphorus required :\", x['P'].mean())\n",
    "    print(\"maximun phosphorus required :\", x['P'].max())\n",
    "    print(\"-------------------------------------------------------------------------\")\n",
    "    \n",
    "    print(\"statistics of potassium\")\n",
    "    print(\"minimum potassium required :\", x['K'].min())\n",
    "    print(\"average potassium required :\", x['K'].mean())\n",
    "    print(\"maximun potassium required :\", x['K'].max())\n",
    "    print(\"-------------------------------------------------------------------------\")\n",
    "                                             \n",
    "    print(\"statistics of temperature\")\n",
    "    print(\"minimum temperature required : {0:2f}\".format(x['temperature'].min()))\n",
    "    print(\"average temperature required : {0:2f}\".format(x['temperature'].mean()))\n",
    "    print(\"maximun temperature required : {0:2f}\".format(x['temperature'].max()))\n",
    "    print(\"-------------------------------------------------------------------------\")\n",
    "    \n",
    "    print(\"statistics of humidity\")\n",
    "    print(\"minimum humidity required : {0:2f}\".format(x['humidity'].min()))\n",
    "    print(\"average humidity required : {0:2f}\".format(x['humidity'].mean()))\n",
    "    print(\"maximun humidity required : {0:2f}\".format(x['humidity'].max()))\n",
    "    print(\"-------------------------------------------------------------------------\")\n",
    "    \n",
    "    print(\"statistics of PH\")\n",
    "    print(\"minimum ph required : {0:2f}\".format(x['ph'].min()))\n",
    "    print(\"average ph required : {0:2f}\".format(x['ph'].mean()))\n",
    "    print(\"maximun ph required : {0:2f}\".format(x['ph'].max()))\n",
    "    print(\"-------------------------------------------------------------------------\")\n",
    "    \n",
    "    print(\"statistics of rainfall\")\n",
    "    print(\"minimum rainfall required : {0:2f}\".format(x['rainfall'].min()))\n",
    "    print(\"average rainfall required : {0:2f}\".format(x['rainfall'].mean()))\n",
    "    print(\"maximun rainfall required : {0:2f}\".format(x['rainfall'].max()))\n",
    "    print(\"-------------------------------------------------------------------------\")\n",
    "    \n",
    "    "
   ]
  },
  {
   "cell_type": "code",
   "execution_count": 12,
   "id": "691d2f80",
   "metadata": {},
   "outputs": [
    {
     "data": {
      "application/vnd.jupyter.widget-view+json": {
       "model_id": "149d63ab2a654abca154ed4775a2ede1",
       "version_major": 2,
       "version_minor": 0
      },
      "text/plain": [
       "interactive(children=(Dropdown(description='conditions', options=('N', 'P', 'K', 'temperature', 'ph', 'humidit…"
      ]
     },
     "metadata": {},
     "output_type": "display_data"
    }
   ],
   "source": [
    "#average requirement of each crop\n",
    "\n",
    "@interact\n",
    "def compare(conditions = ['N','P','K','temperature','ph','humidity','rainfall']):\n",
    "    print(\"Average value for\", conditions,\"is {0:.2f}\".format(data[conditions].mean()))\n",
    "    print(\"---------------------------------------------------------------------------\")\n",
    "    print(\"rice : {0:2f}\".format(data[(data['label'] == 'rice')][conditions].mean()))\n",
    "    print(\"black gram : {0:2f}\".format(data[(data['label'] == 'blackgram')][conditions].mean()))\n",
    "    print(\"banana : {0:2f}\".format(data[(data['label'] == 'banana')][conditions].mean()))\n",
    "    print(\"cococnut : {0:2f}\".format(data[(data['label'] == 'coconut')][conditions].mean()))\n",
    "    print(\"apple : {0:2f}\".format(data[(data['label'] == 'apple')][conditions].mean()))\n",
    "    print(\"papaya : {0:2f}\".format(data[(data['label'] == 'papaya')][conditions].mean()))\n",
    "    print(\"muskmelon : {0:2f}\".format(data[(data['label'] == 'muskmelon')][conditions].mean()))\n",
    "    print(\"grapes : {0:2f}\".format(data[(data['label'] == 'grapes')][conditions].mean()))\n",
    "    print(\"watermelon : {0:2f}\".format(data[(data['label'] == 'watermelon')][conditions].mean()))\n",
    "    print(\"kidneybeans : {0:2f}\".format(data[(data['label'] == 'kidneybeans')][conditions].mean()))\n",
    "    print(\"mung beans : {0:2f}\".format(data[(data['label'] == 'mung beans')][conditions].mean()))\n",
    "    print(\"oranges : {0:2f}\".format(data[(data['label'] == 'oranges')][conditions].mean()))\n",
    "    print(\"chick : {0:2f}\".format(data[(data['label'] == 'chick')][conditions].mean()))\n",
    "    print(\"lentils : {0:2f}\".format(data[(data['label'] == 'lentils')][conditions].mean()))\n",
    "    print(\"cotton : {0:2f}\".format(data[(data['label'] == 'cotton')][conditions].mean()))\n",
    "    print(\"maize : {0:2f}\".format(data[(data['label'] == 'maize')][conditions].mean()))\n",
    "    print(\"moth beans : {0:2f}\".format(data[(data['label'] == 'mothbeans')][conditions].mean()))\n",
    "    print(\"pigeon peas : {0:2f}\".format(data[(data['label'] == 'pigeon peas')][conditions].mean()))\n",
    "    print(\"mango : {0:2f}\".format(data[(data['label'] == 'mango')][conditions].mean()))\n",
    "    print(\"pomegranate : {0:2f}\".format(data[(data['label'] == 'pomegranate')][conditions].mean()))\n",
    "    print(\"coffee : {0:2f}\".format(data[(data['label'] == 'coffee')][conditions].mean()))"
   ]
  },
  {
   "cell_type": "code",
   "execution_count": 13,
   "id": "4a488d6f",
   "metadata": {},
   "outputs": [
    {
     "data": {
      "application/vnd.jupyter.widget-view+json": {
       "model_id": "7c0162b701ac444697fb62910d1976a6",
       "version_major": 2,
       "version_minor": 0
      },
      "text/plain": [
       "interactive(children=(Dropdown(description='conditions', options=('N', 'P', 'K', 'temperature', 'ph', 'humidit…"
      ]
     },
     "metadata": {},
     "output_type": "display_data"
    },
    {
     "name": "stderr",
     "output_type": "stream",
     "text": [
      "C:\\Users\\vaibh\\anaconda3\\lib\\site-packages\\seaborn\\distributions.py:2619: FutureWarning: `distplot` is a deprecated function and will be removed in a future version. Please adapt your code to use either `displot` (a figure-level function with similar flexibility) or `histplot` (an axes-level function for histograms).\n",
      "  warnings.warn(msg, FutureWarning)\n",
      "C:\\Users\\vaibh\\anaconda3\\lib\\site-packages\\seaborn\\distributions.py:2619: FutureWarning: `distplot` is a deprecated function and will be removed in a future version. Please adapt your code to use either `displot` (a figure-level function with similar flexibility) or `histplot` (an axes-level function for histograms).\n",
      "  warnings.warn(msg, FutureWarning)\n",
      "C:\\Users\\vaibh\\anaconda3\\lib\\site-packages\\seaborn\\distributions.py:2619: FutureWarning: `distplot` is a deprecated function and will be removed in a future version. Please adapt your code to use either `displot` (a figure-level function with similar flexibility) or `histplot` (an axes-level function for histograms).\n",
      "  warnings.warn(msg, FutureWarning)\n",
      "C:\\Users\\vaibh\\anaconda3\\lib\\site-packages\\seaborn\\distributions.py:2619: FutureWarning: `distplot` is a deprecated function and will be removed in a future version. Please adapt your code to use either `displot` (a figure-level function with similar flexibility) or `histplot` (an axes-level function for histograms).\n",
      "  warnings.warn(msg, FutureWarning)\n",
      "C:\\Users\\vaibh\\anaconda3\\lib\\site-packages\\seaborn\\distributions.py:2619: FutureWarning: `distplot` is a deprecated function and will be removed in a future version. Please adapt your code to use either `displot` (a figure-level function with similar flexibility) or `histplot` (an axes-level function for histograms).\n",
      "  warnings.warn(msg, FutureWarning)\n",
      "C:\\Users\\vaibh\\anaconda3\\lib\\site-packages\\seaborn\\distributions.py:2619: FutureWarning: `distplot` is a deprecated function and will be removed in a future version. Please adapt your code to use either `displot` (a figure-level function with similar flexibility) or `histplot` (an axes-level function for histograms).\n",
      "  warnings.warn(msg, FutureWarning)\n",
      "C:\\Users\\vaibh\\anaconda3\\lib\\site-packages\\seaborn\\distributions.py:2619: FutureWarning: `distplot` is a deprecated function and will be removed in a future version. Please adapt your code to use either `displot` (a figure-level function with similar flexibility) or `histplot` (an axes-level function for histograms).\n",
      "  warnings.warn(msg, FutureWarning)\n"
     ]
    },
    {
     "ename": "AttributeError",
     "evalue": "module 'matplotlib.pyplot' has no attribute 'subtitle'",
     "output_type": "error",
     "traceback": [
      "\u001b[1;31m---------------------------------------------------------------------------\u001b[0m",
      "\u001b[1;31mAttributeError\u001b[0m                            Traceback (most recent call last)",
      "\u001b[1;32m~\\AppData\\Local\\Temp/ipykernel_1396/3086288871.py\u001b[0m in \u001b[0;36m<module>\u001b[1;34m\u001b[0m\n\u001b[0;32m     42\u001b[0m \u001b[0mplt\u001b[0m\u001b[1;33m.\u001b[0m\u001b[0mgrid\u001b[0m\u001b[1;33m(\u001b[0m\u001b[1;33m)\u001b[0m\u001b[1;33m\u001b[0m\u001b[1;33m\u001b[0m\u001b[0m\n\u001b[0;32m     43\u001b[0m \u001b[1;33m\u001b[0m\u001b[0m\n\u001b[1;32m---> 44\u001b[1;33m \u001b[0mplt\u001b[0m\u001b[1;33m.\u001b[0m\u001b[0msubtitle\u001b[0m\u001b[1;33m(\u001b[0m\u001b[1;34m'distribution for agriculture conditions'\u001b[0m\u001b[1;33m,\u001b[0m \u001b[0mfontsize\u001b[0m \u001b[1;33m=\u001b[0m \u001b[1;36m20\u001b[0m\u001b[1;33m)\u001b[0m\u001b[1;33m\u001b[0m\u001b[1;33m\u001b[0m\u001b[0m\n\u001b[0m\u001b[0;32m     45\u001b[0m \u001b[0mplt\u001b[0m\u001b[1;33m.\u001b[0m\u001b[0mshow\u001b[0m\u001b[1;33m(\u001b[0m\u001b[1;33m)\u001b[0m\u001b[1;33m\u001b[0m\u001b[1;33m\u001b[0m\u001b[0m\n",
      "\u001b[1;31mAttributeError\u001b[0m: module 'matplotlib.pyplot' has no attribute 'subtitle'"
     ]
    },
    {
     "data": {
      "image/png": "[encoded data removed]",
      "text/plain": [
       "<Figure size 432x288 with 7 Axes>"
      ]
     },
     "metadata": {
      "needs_background": "light"
     },
     "output_type": "display_data"
    }
   ],
   "source": [
    "@interact\n",
    "def compare(conditions = ['N','P','K','temperature','ph','humidity','rainfall']):\n",
    "    print(\"crops which require greater than average\", conditions, '\\n')\n",
    "    print(data[data[conditions] > data[conditions].mean()]['label'].unique())\n",
    "    print(\"-------------------------------------------------------------------\")\n",
    "    print(\"crops which require less than average\", conditions, '\\n')\n",
    "    print(data[data[conditions] <= data[conditions].mean()]['label'].unique())\n",
    "\n",
    "plt.subplot(2,4,1)\n",
    "sns.distplot(data['N'], color = 'green')\n",
    "plt.xlabel('ratio of nitrogen', fontsize = 12)\n",
    "plt.grid()\n",
    "\n",
    "plt.subplot(2,4,2)\n",
    "sns.distplot(data['P'], color = 'pink')\n",
    "plt.xlabel('ratio of phosphorus', fontsize = 12)\n",
    "plt.grid()\n",
    "\n",
    "plt.subplot(2,4,3)\n",
    "sns.distplot(data['K'], color = 'darkblue')\n",
    "plt.xlabel('ratio of potassium', fontsize = 12)\n",
    "plt.grid()\n",
    "\n",
    "plt.subplot(2,4,4)\n",
    "sns.distplot(data['temperature'], color = 'black')\n",
    "plt.xlabel('Temperature', fontsize = 12)\n",
    "plt.grid()\n",
    "\n",
    "plt.subplot(2,4,5)\n",
    "sns.distplot(data['rainfall'], color = 'grey')\n",
    "plt.xlabel('Rainfall', fontsize = 12)\n",
    "plt.grid()\n",
    "\n",
    "plt.subplot(2,4,6)\n",
    "sns.distplot(data['humidity'], color = 'lightgreen')\n",
    "plt.xlabel('Humidity', fontsize = 12)\n",
    "plt.grid()\n",
    "\n",
    "plt.subplot(2,4,7)\n",
    "sns.distplot(data['ph'], color = 'darkgreen')\n",
    "plt.xlabel('pH level', fontsize = 12)\n",
    "plt.grid()\n",
    "\n",
    "plt.subtitle('distribution for agriculture conditions', fontsize = 20)\n",
    "plt.show()"
   ]
  },
  {
   "cell_type": "code",
   "execution_count": null,
   "id": "daaf59ef",
   "metadata": {},
   "outputs": [],
   "source": [
    "#interesting pattern\n",
    "\n",
    "print(\"some intresting pattern\")\n",
    "print(\"----------------------------------------------------\")\n",
    "print(\"crop which require very high ratio of nitrogen content in soil:\", data[data['N'] > 120]['label'].unique())\n",
    "print(\"crop which require very high ratio of phosphorus content in soil:\", data[data['P'] > 100]['label'].unique())\n",
    "print(\"crop which require very high ratio of potassium content in soil:\", data[data['K'] > 200]['label'].unique())\n",
    "print(\"crop which require very high rainfall:\", data[data['rainfall'] > 200]['label'].unique())\n",
    "print(\"crop which require very low temperature:\", data[data['temperature'] < 10]['label'].unique())\n",
    "print(\"crop which require very high temperture:\", data[data['temperature'] > 40]['label'].unique())\n",
    "print(\"crop which require very low humidity:\", data[data['humidity'] < 20]['label'].unique())\n",
    "print(\"crop which require very low pH:\", data[data['ph'] < 4]['label'].unique())\n",
    "print(\"crop which require very high pH:\", data[data['ph'] > 9]['label'].unique())"
   ]
  },
  {
   "cell_type": "code",
   "execution_count": 14,
   "id": "f89cc27a",
   "metadata": {},
   "outputs": [
    {
     "name": "stdout",
     "output_type": "stream",
     "text": [
      "(2200, 7)\n"
     ]
    }
   ],
   "source": [
    "from sklearn.cluster import KMeans\n",
    "\n",
    "# removing the labels column\n",
    "x = data.drop(['label'], axis=1)\n",
    "\n",
    "#selecting all the values of data\n",
    "x = x.values\n",
    "\n",
    "#checking the shape\n",
    "print(x.shape)"
   ]
  },
  {
   "cell_type": "code",
   "execution_count": 15,
   "id": "0819277c",
   "metadata": {},
   "outputs": [
    {
     "name": "stderr",
     "output_type": "stream",
     "text": [
      "C:\\Users\\vaibh\\anaconda3\\lib\\site-packages\\sklearn\\cluster\\_kmeans.py:881: UserWarning: KMeans is known to have a memory leak on Windows with MKL, when there are less chunks than available threads. You can avoid it by setting the environment variable OMP_NUM_THREADS=9.\n",
      "  warnings.warn(\n"
     ]
    },
    {
     "data": {
      "image/png": "[encoded data removed]",
      "text/plain": [
       "<Figure size 720x288 with 1 Axes>"
      ]
     },
     "metadata": {
      "needs_background": "light"
     },
     "output_type": "display_data"
    }
   ],
   "source": [
    "#determine the optimum number of clusters within the dataset\n",
    "\n",
    "plt.rcParams['figure.figsize'] = (10,4)\n",
    "\n",
    "wcss = []\n",
    "for i in range(1,11):\n",
    "    km = KMeans(n_clusters = i, init = 'k-means++', max_iter = 300, n_init = 10, random_state = 0)\n",
    "    km.fit(x)\n",
    "    wcss.append(km.inertia_)\n",
    "    \n",
    "#lets plot the result #\n",
    "plt.plot(range(1,11), wcss)\n",
    "plt.title('the elbow method', fontsize = 20)\n",
    "plt.xlabel('no. of clusters')\n",
    "plt.ylabel('wcss')\n",
    "plt.show()"
   ]
  },
  {
   "cell_type": "code",
   "execution_count": 16,
   "id": "fc64c475",
   "metadata": {},
   "outputs": [
    {
     "name": "stdout",
     "output_type": "stream",
     "text": [
      "shape of x: (2200, 7)\n",
      "shape of y: (2200,)\n",
      "shape of x train: (1760, 7)\n",
      "shape of x test: (440, 7)\n",
      "shape of y train: (1760,)\n",
      "shape of y_test: (440,)\n"
     ]
    }
   ],
   "source": [
    "#lets split the dataset for predicting modelling\n",
    "\n",
    "y = data['label']\n",
    "x = data.drop(['label'], axis = 1)\n",
    "\n",
    "print(\"shape of x:\", x.shape)\n",
    "print(\"shape of y:\", y.shape)\n",
    "\n",
    "19.#training and testing sets for validation results\n",
    "\n",
    "from sklearn.model_selection import train_test_split\n",
    "\n",
    "x_train, x_test, y_train, y_test = train_test_split(x, y, test_size = 0.2, random_state = 0)\n",
    "\n",
    "print(\"shape of x train:\", x_train.shape)\n",
    "print(\"shape of x test:\", x_test.shape)\n",
    "print(\"shape of y train:\", y_train.shape)\n",
    "print(\"shape of y_test:\", y_test.shape)"
   ]
  },
  {
   "cell_type": "code",
   "execution_count": 17,
   "id": "369f253b",
   "metadata": {},
   "outputs": [
    {
     "name": "stderr",
     "output_type": "stream",
     "text": [
      "C:\\Users\\vaibh\\anaconda3\\lib\\site-packages\\sklearn\\linear_model\\_logistic.py:763: ConvergenceWarning: lbfgs failed to converge (status=1):\n",
      "STOP: TOTAL NO. of ITERATIONS REACHED LIMIT.\n",
      "\n",
      "Increase the number of iterations (max_iter) or scale the data as shown in:\n",
      "    https://scikit-learn.org/stable/modules/preprocessing.html\n",
      "Please also refer to the documentation for alternative solver options:\n",
      "    https://scikit-learn.org/stable/modules/linear_model.html#logistic-regression\n",
      "  n_iter_i = _check_optimize_result(\n"
     ]
    },
    {
     "data": {
      "image/png": "[encoded data removed]",
      "text/plain": [
       "<Figure size 720x720 with 2 Axes>"
      ]
     },
     "metadata": {
      "needs_background": "light"
     },
     "output_type": "display_data"
    }
   ],
   "source": [
    "#create a predictive model\n",
    "\n",
    "from sklearn.linear_model import LogisticRegression\n",
    "\n",
    "model = LogisticRegression()\n",
    "model.fit(x_train, y_train)\n",
    "y_pred = model.predict(x_test)\n",
    "\n",
    "21.#lets evaluate the model performance\n",
    "from sklearn.metrics import confusion_matrix\n",
    "\n",
    "#print the confusion matrix\n",
    "plt.rcParams['figure.figsize'] = (10,10)\n",
    "cm = confusion_matrix(y_test, y_pred)\n",
    "sns.heatmap(cm, annot = True, cmap = 'Wistia')\n",
    "plt.title('confusion Matrix for Logistic Regression', fontsize = 15)\n",
    "plt.show()"
   ]
  },
  {
   "cell_type": "code",
   "execution_count": 18,
   "id": "967cfc38",
   "metadata": {},
   "outputs": [
    {
     "name": "stdout",
     "output_type": "stream",
     "text": [
      "              precision    recall  f1-score   support\n",
      "\n",
      "       apple       1.00      1.00      1.00        18\n",
      "      banana       1.00      1.00      1.00        18\n",
      "   blackgram       0.86      0.82      0.84        22\n",
      "    chickpea       1.00      1.00      1.00        23\n",
      "     coconut       1.00      1.00      1.00        15\n",
      "      coffee       1.00      1.00      1.00        17\n",
      "      cotton       0.89      1.00      0.94        16\n",
      "      grapes       1.00      1.00      1.00        18\n",
      "        jute       0.84      1.00      0.91        21\n",
      " kidneybeans       1.00      1.00      1.00        20\n",
      "      lentil       0.94      0.94      0.94        17\n",
      "       maize       0.94      0.89      0.91        18\n",
      "       mango       1.00      1.00      1.00        21\n",
      "   mothbeans       0.88      0.92      0.90        25\n",
      "    mungbean       1.00      1.00      1.00        17\n",
      "   muskmelon       1.00      1.00      1.00        23\n",
      "      orange       1.00      1.00      1.00        23\n",
      "      papaya       1.00      0.95      0.98        21\n",
      "  pigeonpeas       1.00      1.00      1.00        22\n",
      " pomegranate       1.00      1.00      1.00        23\n",
      "        rice       1.00      0.84      0.91        25\n",
      "  watermelon       1.00      1.00      1.00        17\n",
      "\n",
      "    accuracy                           0.97       440\n",
      "   macro avg       0.97      0.97      0.97       440\n",
      "weighted avg       0.97      0.97      0.97       440\n",
      "\n"
     ]
    }
   ],
   "source": [
    "#print the classification report\n",
    "from sklearn.metrics import classification_report\n",
    "cr = classification_report(y_test, y_pred)\n",
    "print(cr)"
   ]
  },
  {
   "cell_type": "code",
   "execution_count": 19,
   "id": "049d2f96",
   "metadata": {},
   "outputs": [
    {
     "data": {
      "text/html": [
       "<div>\n",
       "<style scoped>\n",
       "    .dataframe tbody tr th:only-of-type {\n",
       "        vertical-align: middle;\n",
       "    }\n",
       "\n",
       "    .dataframe tbody tr th {\n",
       "        vertical-align: top;\n",
       "    }\n",
       "\n",
       "    .dataframe thead th {\n",
       "        text-align: right;\n",
       "    }\n",
       "</style>\n",
       "<table border=\"1\" class=\"dataframe\">\n",
       "  <thead>\n",
       "    <tr style=\"text-align: right;\">\n",
       "      <th></th>\n",
       "      <th>N</th>\n",
       "      <th>P</th>\n",
       "      <th>K</th>\n",
       "      <th>temperature</th>\n",
       "      <th>humidity</th>\n",
       "      <th>ph</th>\n",
       "      <th>rainfall</th>\n",
       "      <th>label</th>\n",
       "    </tr>\n",
       "  </thead>\n",
       "  <tbody>\n",
       "    <tr>\n",
       "      <th>0</th>\n",
       "      <td>90</td>\n",
       "      <td>42</td>\n",
       "      <td>43</td>\n",
       "      <td>20.879744</td>\n",
       "      <td>82.002744</td>\n",
       "      <td>6.502985</td>\n",
       "      <td>202.935536</td>\n",
       "      <td>rice</td>\n",
       "    </tr>\n",
       "    <tr>\n",
       "      <th>1</th>\n",
       "      <td>85</td>\n",
       "      <td>58</td>\n",
       "      <td>41</td>\n",
       "      <td>21.770462</td>\n",
       "      <td>80.319644</td>\n",
       "      <td>7.038096</td>\n",
       "      <td>226.655537</td>\n",
       "      <td>rice</td>\n",
       "    </tr>\n",
       "    <tr>\n",
       "      <th>2</th>\n",
       "      <td>60</td>\n",
       "      <td>55</td>\n",
       "      <td>44</td>\n",
       "      <td>23.004459</td>\n",
       "      <td>82.320763</td>\n",
       "      <td>7.840207</td>\n",
       "      <td>263.964248</td>\n",
       "      <td>rice</td>\n",
       "    </tr>\n",
       "    <tr>\n",
       "      <th>3</th>\n",
       "      <td>74</td>\n",
       "      <td>35</td>\n",
       "      <td>40</td>\n",
       "      <td>26.491096</td>\n",
       "      <td>80.158363</td>\n",
       "      <td>6.980401</td>\n",
       "      <td>242.864034</td>\n",
       "      <td>rice</td>\n",
       "    </tr>\n",
       "    <tr>\n",
       "      <th>4</th>\n",
       "      <td>78</td>\n",
       "      <td>42</td>\n",
       "      <td>42</td>\n",
       "      <td>20.130175</td>\n",
       "      <td>81.604873</td>\n",
       "      <td>7.628473</td>\n",
       "      <td>262.717340</td>\n",
       "      <td>rice</td>\n",
       "    </tr>\n",
       "  </tbody>\n",
       "</table>\n",
       "</div>"
      ],
      "text/plain": [
       "    N   P   K  temperature   humidity        ph    rainfall label\n",
       "0  90  42  43    20.879744  82.002744  6.502985  202.935536  rice\n",
       "1  85  58  41    21.770462  80.319644  7.038096  226.655537  rice\n",
       "2  60  55  44    23.004459  82.320763  7.840207  263.964248  rice\n",
       "3  74  35  40    26.491096  80.158363  6.980401  242.864034  rice\n",
       "4  78  42  42    20.130175  81.604873  7.628473  262.717340  rice"
      ]
     },
     "execution_count": 19,
     "metadata": {},
     "output_type": "execute_result"
    }
   ],
   "source": [
    "data.head()"
   ]
  },
  {
   "cell_type": "code",
   "execution_count": 20,
   "id": "f05ba3ff",
   "metadata": {},
   "outputs": [
    {
     "name": "stdout",
     "output_type": "stream",
     "text": [
      " the suggested crop for given climatic condition : ['rice']\n"
     ]
    }
   ],
   "source": [
    "prediction = model.predict((np.array([[85,\n",
    "                                       60,\n",
    "                                       40,\n",
    "                                       22,\n",
    "                                       80,\n",
    "                                       6,\n",
    "                                       220]])))\n",
    "print(\" the suggested crop for given climatic condition :\", prediction)"
   ]
  },
  {
   "cell_type": "code",
   "execution_count": 21,
   "id": "bf086892",
   "metadata": {},
   "outputs": [
    {
     "name": "stdout",
     "output_type": "stream",
     "text": [
      " the suggested crop for given climatic condition : ['coffee']\n"
     ]
    }
   ],
   "source": [
    "prediction = model.predict((np.array([[100,\n",
    "                                       50,\n",
    "                                       40,\n",
    "                                       20,\n",
    "                                       34,\n",
    "                                       2,\n",
    "                                       200]])))\n",
    "print(\" the suggested crop for given climatic condition :\", prediction)"
   ]
  },
  {
   "cell_type": "code",
   "execution_count": 22,
   "id": "52de0320",
   "metadata": {},
   "outputs": [
    {
     "name": "stdout",
     "output_type": "stream",
     "text": [
      " the suggested crop for given climatic condition : ['maize']\n"
     ]
    }
   ],
   "source": [
    "prediction = model.predict((np.array([[71,\n",
    "                                       54,\n",
    "                                       16,\n",
    "                                       22,\n",
    "                                       63,\n",
    "                                       5,\n",
    "                                       87]])))\n",
    "print(\" the suggested crop for given climatic condition :\", prediction)"
   ]
  },
  {
   "cell_type": "code",
   "execution_count": 23,
   "id": "2dfa21ec",
   "metadata": {},
   "outputs": [
    {
     "name": "stdout",
     "output_type": "stream",
     "text": [
      " the suggested crop for given climatic condition : ['chickpea']\n"
     ]
    }
   ],
   "source": [
    "prediction = model.predict((np.array([[27,\n",
    "                                       62,\n",
    "                                       77,\n",
    "                                       18,\n",
    "                                       15,\n",
    "                                       7,\n",
    "                                       87]])))\n",
    "print(\" the suggested crop for given climatic condition :\", prediction)"
   ]
  },
  {
   "cell_type": "code",
   "execution_count": 24,
   "id": "55a73baa",
   "metadata": {},
   "outputs": [
    {
     "name": "stdout",
     "output_type": "stream",
     "text": [
      " the suggested crop for given climatic condition : ['kidneybeans']\n"
     ]
    }
   ],
   "source": [
    "prediction = model.predict((np.array([[37,\n",
    "                                       64,\n",
    "                                       22,\n",
    "                                       18,\n",
    "                                       18,\n",
    "                                       6,\n",
    "                                       144]])))\n",
    "print(\" the suggested crop for given climatic condition :\", prediction)"
   ]
  },
  {
   "cell_type": "code",
   "execution_count": 25,
   "id": "26cd7b39",
   "metadata": {},
   "outputs": [
    {
     "name": "stdout",
     "output_type": "stream",
     "text": [
      " the suggested crop for given climatic condition : ['pigeonpeas']\n"
     ]
    }
   ],
   "source": [
    "prediction = model.predict((np.array([[3,\n",
    "                                       68,\n",
    "                                       16,\n",
    "                                       18,\n",
    "                                       34,\n",
    "                                       5,\n",
    "                                       107]])))\n",
    "print(\" the suggested crop for given climatic condition :\", prediction)"
   ]
  },
  {
   "cell_type": "code",
   "execution_count": 26,
   "id": "43f098f2",
   "metadata": {},
   "outputs": [
    {
     "name": "stdout",
     "output_type": "stream",
     "text": [
      " the suggested crop for given climatic condition : ['mothbeans']\n"
     ]
    }
   ],
   "source": [
    "prediction = model.predict((np.array([[40,\n",
    "                                       50,\n",
    "                                       17,\n",
    "                                       32,\n",
    "                                       45,\n",
    "                                       6,\n",
    "                                       54]])))\n",
    "print(\" the suggested crop for given climatic condition :\", prediction)"
   ]
  },
  {
   "cell_type": "code",
   "execution_count": 27,
   "id": "fe417035",
   "metadata": {},
   "outputs": [
    {
     "name": "stdout",
     "output_type": "stream",
     "text": [
      " the suggested crop for given climatic condition : ['mungbean']\n"
     ]
    }
   ],
   "source": [
    "prediction = model.predict((np.array([[30,\n",
    "                                       60,\n",
    "                                       20,\n",
    "                                       28,\n",
    "                                       87,\n",
    "                                       7,\n",
    "                                       44]])))\n",
    "print(\" the suggested crop for given climatic condition :\", prediction)"
   ]
  },
  {
   "cell_type": "code",
   "execution_count": 28,
   "id": "ce9bbe1a",
   "metadata": {},
   "outputs": [
    {
     "name": "stdout",
     "output_type": "stream",
     "text": [
      " the suggested crop for given climatic condition : ['blackgram']\n"
     ]
    }
   ],
   "source": [
    "prediction = model.predict((np.array([[50,\n",
    "                                       60,\n",
    "                                       25,\n",
    "                                       28,\n",
    "                                       64,\n",
    "                                       7,\n",
    "                                       70]])))\n",
    "print(\" the suggested crop for given climatic condition :\", prediction)"
   ]
  },
  {
   "cell_type": "code",
   "execution_count": 29,
   "id": "135dfb01",
   "metadata": {},
   "outputs": [
    {
     "name": "stdout",
     "output_type": "stream",
     "text": [
      " the suggested crop for given climatic condition : ['lentil']\n"
     ]
    }
   ],
   "source": [
    "prediction = model.predict((np.array([[2,\n",
    "                                       75,\n",
    "                                       23,\n",
    "                                       21,\n",
    "                                       66,\n",
    "                                       7,\n",
    "                                       45]])))\n",
    "print(\" the suggested crop for given climatic condition :\", prediction)"
   ]
  },
  {
   "cell_type": "code",
   "execution_count": 30,
   "id": "fff58361",
   "metadata": {},
   "outputs": [
    {
     "name": "stdout",
     "output_type": "stream",
     "text": [
      " the suggested crop for given climatic condition : ['pomegranate']\n"
     ]
    }
   ],
   "source": [
    "prediction = model.predict((np.array([[25,\n",
    "                                       25,\n",
    "                                       38,\n",
    "                                       23,\n",
    "                                       85,\n",
    "                                       7,\n",
    "                                       110]])))\n",
    "print(\" the suggested crop for given climatic condition :\", prediction)"
   ]
  },
  {
   "cell_type": "code",
   "execution_count": 31,
   "id": "823995e3",
   "metadata": {},
   "outputs": [
    {
     "name": "stdout",
     "output_type": "stream",
     "text": [
      " the suggested crop for given climatic condition : ['banana']\n"
     ]
    }
   ],
   "source": [
    "prediction = model.predict((np.array([[115,\n",
    "                                       75,\n",
    "                                       47,\n",
    "                                       25,\n",
    "                                       78,\n",
    "                                       6,\n",
    "                                       98]])))\n",
    "print(\" the suggested crop for given climatic condition :\", prediction)"
   ]
  },
  {
   "cell_type": "code",
   "execution_count": 32,
   "id": "63e23c33",
   "metadata": {},
   "outputs": [
    {
     "name": "stdout",
     "output_type": "stream",
     "text": [
      " the suggested crop for given climatic condition : ['mango']\n"
     ]
    }
   ],
   "source": [
    "prediction = model.predict((np.array([[35,\n",
    "                                       35,\n",
    "                                       25,\n",
    "                                       33,\n",
    "                                       52,\n",
    "                                       5,\n",
    "                                       94]])))\n",
    "print(\" the suggested crop for given climatic condition :\", prediction)"
   ]
  },
  {
   "cell_type": "code",
   "execution_count": 33,
   "id": "bd1b41b3",
   "metadata": {},
   "outputs": [
    {
     "name": "stdout",
     "output_type": "stream",
     "text": [
      " the suggested crop for given climatic condition : ['grapes']\n"
     ]
    }
   ],
   "source": [
    "prediction = model.predict((np.array([[1,\n",
    "                                       135,\n",
    "                                       195,\n",
    "                                       23,\n",
    "                                       80,\n",
    "                                       6,\n",
    "                                       65]])))\n",
    "print(\" the suggested crop for given climatic condition :\", prediction)"
   ]
  },
  {
   "cell_type": "code",
   "execution_count": 34,
   "id": "4aa0dfea",
   "metadata": {},
   "outputs": [
    {
     "name": "stdout",
     "output_type": "stream",
     "text": [
      " the suggested crop for given climatic condition : ['watermelon']\n"
     ]
    }
   ],
   "source": [
    "prediction = model.predict((np.array([[90,\n",
    "                                       7,\n",
    "                                       45,\n",
    "                                       26,\n",
    "                                       81,\n",
    "                                       7,\n",
    "                                       45]])))\n",
    "print(\" the suggested crop for given climatic condition :\", prediction)"
   ]
  },
  {
   "cell_type": "code",
   "execution_count": 35,
   "id": "af3bea43",
   "metadata": {},
   "outputs": [
    {
     "name": "stdout",
     "output_type": "stream",
     "text": [
      " the suggested crop for given climatic condition : ['muskmelon']\n"
     ]
    }
   ],
   "source": [
    "prediction = model.predict((np.array([[100,\n",
    "                                       20,\n",
    "                                       50,\n",
    "                                       27,\n",
    "                                       90,\n",
    "                                       7,\n",
    "                                       25]])))\n",
    "print(\" the suggested crop for given climatic condition :\", prediction)"
   ]
  },
  {
   "cell_type": "code",
   "execution_count": 36,
   "id": "ff4dd3d0",
   "metadata": {},
   "outputs": [
    {
     "name": "stdout",
     "output_type": "stream",
     "text": [
      " the suggested crop for given climatic condition : ['apple']\n"
     ]
    }
   ],
   "source": [
    "prediction = model.predict((np.array([[1,\n",
    "                                       135,\n",
    "                                       203,\n",
    "                                       23,\n",
    "                                       93,\n",
    "                                       6,\n",
    "                                       110]])))\n",
    "print(\" the suggested crop for given climatic condition :\", prediction)"
   ]
  },
  {
   "cell_type": "code",
   "execution_count": 37,
   "id": "424decbe",
   "metadata": {},
   "outputs": [
    {
     "name": "stdout",
     "output_type": "stream",
     "text": [
      " the suggested crop for given climatic condition : ['orange']\n"
     ]
    }
   ],
   "source": [
    "prediction = model.predict((np.array([[15,\n",
    "                                       7,\n",
    "                                       8,\n",
    "                                       23,\n",
    "                                       90,\n",
    "                                       7,\n",
    "                                       115]])))\n",
    "print(\" the suggested crop for given climatic condition :\", prediction)"
   ]
  },
  {
   "cell_type": "code",
   "execution_count": 38,
   "id": "0b6921c7",
   "metadata": {},
   "outputs": [
    {
     "name": "stdout",
     "output_type": "stream",
     "text": [
      " the suggested crop for given climatic condition : ['mango']\n"
     ]
    }
   ],
   "source": [
    "prediction = model.predict((np.array([[50,\n",
    "                                       50,\n",
    "                                       50,\n",
    "                                       50,\n",
    "                                       92,\n",
    "                                       7,\n",
    "                                       206]])))\n",
    "print(\" the suggested crop for given climatic condition :\", prediction)"
   ]
  },
  {
   "cell_type": "code",
   "execution_count": 39,
   "id": "3d8b4a09",
   "metadata": {},
   "outputs": [
    {
     "name": "stdout",
     "output_type": "stream",
     "text": [
      " the suggested crop for given climatic condition : ['papaya']\n"
     ]
    }
   ],
   "source": [
    "prediction = model.predict((np.array([[57,\n",
    "                                       64,\n",
    "                                       55,\n",
    "                                       26,\n",
    "                                       92,\n",
    "                                       7,\n",
    "                                       63]])))\n",
    "print(\" the suggested crop for given climatic condition :\", prediction)"
   ]
  },
  {
   "cell_type": "code",
   "execution_count": 40,
   "id": "dddc7cee",
   "metadata": {},
   "outputs": [
    {
     "name": "stdout",
     "output_type": "stream",
     "text": [
      " the suggested crop for given climatic condition : ['coconut']\n"
     ]
    }
   ],
   "source": [
    "prediction = model.predict((np.array([[40,\n",
    "                                       22,\n",
    "                                       29,\n",
    "                                       27,\n",
    "                                       100,\n",
    "                                       6,\n",
    "                                       135]])))\n",
    "print(\" the suggested crop for given climatic condition :\", prediction)"
   ]
  },
  {
   "cell_type": "code",
   "execution_count": 41,
   "id": "44b0148d",
   "metadata": {},
   "outputs": [
    {
     "name": "stdout",
     "output_type": "stream",
     "text": [
      " the suggested crop for given climatic condition : ['cotton']\n"
     ]
    }
   ],
   "source": [
    "prediction = model.predict((np.array([[108,\n",
    "                                       36,\n",
    "                                       19,\n",
    "                                       22,\n",
    "                                       77,\n",
    "                                       7,\n",
    "                                       67]])))\n",
    "print(\" the suggested crop for given climatic condition :\", prediction)"
   ]
  },
  {
   "cell_type": "code",
   "execution_count": 42,
   "id": "a89e0ab9",
   "metadata": {},
   "outputs": [
    {
     "name": "stdout",
     "output_type": "stream",
     "text": [
      " the suggested crop for given climatic condition : ['jute']\n"
     ]
    }
   ],
   "source": [
    "prediction = model.predict((np.array([[65,\n",
    "                                       40,\n",
    "                                       40,\n",
    "                                       25,\n",
    "                                       80,\n",
    "                                       7,\n",
    "                                       150]])))\n",
    "print(\" the suggested crop for given climatic condition :\", prediction)"
   ]
  },
  {
   "cell_type": "code",
   "execution_count": 43,
   "id": "31491158",
   "metadata": {},
   "outputs": [],
   "source": [
    "import pickle"
   ]
  },
  {
   "cell_type": "code",
   "execution_count": 44,
   "id": "e836c965",
   "metadata": {},
   "outputs": [],
   "source": [
    "with open ('model_pickle', 'wb') as f:\n",
    "    pickle.dump(model,f)"
   ]
  },
  {
   "cell_type": "code",
   "execution_count": 45,
   "id": "21048dc8",
   "metadata": {},
   "outputs": [],
   "source": [
    "with open ('model_pickle', 'rb') as f:\n",
    "    model = pickle.load(f)"
   ]
  },
  {
   "cell_type": "code",
   "execution_count": 46,
   "id": "15b40473",
   "metadata": {},
   "outputs": [
    {
     "data": {
      "text/plain": [
       "array(['jute'], dtype=object)"
      ]
     },
     "execution_count": 46,
     "metadata": {},
     "output_type": "execute_result"
    }
   ],
   "source": [
    "model.predict((np.array([[65,\n",
    "                          40,\n",
    "                          40,\n",
    "                          25,\n",
    "                          80,\n",
    "                           7,\n",
    "                          150]])))\n",
    "                          \n",
    "                    \n",
    "                          \n",
    "                         \n",
    "                        \n",
    "                          \n",
    "                        \n",
    "                    "
   ]
  },
  {
   "cell_type": "code",
   "execution_count": null,
   "id": "6025a964",
   "metadata": {},
   "outputs": [],
   "source": []
  }
 ],
 "metadata": {
  "kernelspec": {
   "display_name": "Python 3 (ipykernel)",
   "language": "python",
   "name": "python3"
  },
  "language_info": {
   "codemirror_mode": {
    "name": "ipython",
    "version": 3
   },
   "file_extension": ".py",
   "mimetype": "text/x-python",
   "name": "python",
   "nbconvert_exporter": "python",
   "pygments_lexer": "ipython3",
   "version": "3.9.7"
  }
 },
 "nbformat": 4,
 "nbformat_minor": 5
}
